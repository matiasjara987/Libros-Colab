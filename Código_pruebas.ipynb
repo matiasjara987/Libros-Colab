{
  "nbformat": 4,
  "nbformat_minor": 0,
  "metadata": {
    "colab": {
      "provenance": [],
      "authorship_tag": "ABX9TyP/EnGOLhLXBx7z9W2eIw70",
      "include_colab_link": true
    },
    "kernelspec": {
      "name": "python3",
      "display_name": "Python 3"
    },
    "language_info": {
      "name": "python"
    }
  },
  "cells": [
    {
      "cell_type": "markdown",
      "metadata": {
        "id": "view-in-github",
        "colab_type": "text"
      },
      "source": [
        "<a href=\"https://colab.research.google.com/github/matiasjara987/Libros-Colab/blob/main/C%C3%B3digo_pruebas.ipynb\" target=\"_parent\"><img src=\"https://colab.research.google.com/assets/colab-badge.svg\" alt=\"Open In Colab\"/></a>"
      ]
    },
    {
      "cell_type": "code",
      "execution_count": null,
      "metadata": {
        "id": "CZOS2YeYG2md"
      },
      "outputs": [],
      "source": [
        "#Tutorial\n",
        "#https://codigospython.com/creacion-de-scripts-en-python-tutorial-completo/\n",
        "\n",
        "#Ejercicio 1: Realizar scrips que muestre los recursos del equipo"
      ]
    },
    {
      "cell_type": "code",
      "source": [],
      "metadata": {
        "id": "swQvCsn0QrGw"
      },
      "execution_count": null,
      "outputs": []
    }
  ]
}