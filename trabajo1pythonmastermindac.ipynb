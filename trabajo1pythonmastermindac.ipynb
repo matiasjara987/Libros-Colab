{
  "nbformat": 4,
  "nbformat_minor": 0,
  "metadata": {
    "colab": {
      "provenance": [],
      "authorship_tag": "ABX9TyO5nt8JfWY/2xeThfRZtNbV",
      "include_colab_link": true
    },
    "kernelspec": {
      "name": "python3",
      "display_name": "Python 3"
    },
    "language_info": {
      "name": "python"
    }
  },
  "cells": [
    {
      "cell_type": "markdown",
      "metadata": {
        "id": "view-in-github",
        "colab_type": "text"
      },
      "source": [
        "<a href=\"https://colab.research.google.com/github/matiasjara987/Scripts-python/blob/main/trabajo1pythonmastermindac.ipynb\" target=\"_parent\"><img src=\"https://colab.research.google.com/assets/colab-badge.svg\" alt=\"Open In Colab\"/></a>"
      ]
    },
    {
      "cell_type": "code",
      "execution_count": null,
      "metadata": {
        "colab": {
          "base_uri": "https://localhost:8080/"
        },
        "id": "pkcJGRB1qKhz",
        "outputId": "2ebe6289-3cf3-4710-9b85-24acbe7f75d4"
      },
      "outputs": [
        {
          "output_type": "stream",
          "name": "stdout",
          "text": [
            "Bienvenido, introduce tu nombre m\n",
            "El noble m ha sido capturado en los calabozos de alta seguridad en Avila. Tu misión es escapar con vida\n",
            "¿Deseas iniciar? si/no: gfhg\n",
            "¿Deseas iniciar? si/no: no\n",
            "Gracias por jugar\n"
          ]
        }
      ],
      "source": [
        "import random\n",
        "\n",
        "def cerrar_juego():\n",
        "    print(\"Gracias por jugar\")\n",
        "    exit()\n",
        "def iniciar_juego():\n",
        "  e1 = int(input(\"estás encerrado, ves dos posibles salidas: 1. trepar por las barreras del calabozo, para subir al techo. 2: Saltar por la ventana hasta el río\"))\n",
        "  if e1 == 1:\n",
        "    print(\"Has escogido trepar\")\n",
        "    print(\"Al escalar te das cuenta que está lleno de ratas y está oscuro. A lo lejos ves una antorcha. Tomar la antorcha evitará que las ratas se acerquen pero será más probable que te descubran. Sabiendo esto que harás?\")\n",
        "  else:\n",
        "    print(\"Has escogido saltar\")\n",
        "    print(\"Has logrado salir, lastimosamente la caída te ha roto una pierna. Un carruaje se acerca a ver como estás. Es un anciano, te sube a su carruaje. (Decisión importante) 1. Esperar con calma a ver donde te lleva el anciano. 2. Asesionar al anciano y robar un caballo \")\n",
        "    e21 = int(input(\"Que harás ? 1 / 2\"))\n",
        "      if e21== 1:\n",
        "\n",
        "  e11 = int(input(\"1. Tomar antorcha / 2. No tomarla\"))\n",
        "  if e11 ==1 :\n",
        "    print(\"Has tomado la antorcha\")\n",
        "    tiene_antorcha = True\n",
        "  else:\n",
        "    print(\"Has decidido no tomar la antorcha\")\n",
        "  exit()\n",
        "\n",
        "def iniciar_juego(z):\n",
        "  if z.upper() == \"NO\":\n",
        "    cerrar_juego()\n",
        "  else:\n",
        "    print(\"Comenzando juego\")\n",
        "    iniciar_juego\n",
        "tiene_antorcha = False\n",
        "nombre = input(\"Bienvenido, introduce tu nombre \")\n",
        "x = \"\"\n",
        "\n",
        "\n",
        "print(\"El noble \" + nombre + \" ha sido capturado en los calabozos de alta seguridad en Avila. Tu misión es escapar con vida\")\n",
        "x = input(\"¿Deseas iniciar? si/no: \")\n",
        "while(x.upper() != \"SI\" and x.upper() != \"NO\"):\n",
        "    x = input(\"¿Deseas iniciar? si/no: \")\n",
        "cerrar_juego(x)\n",
        "\n",
        "# Iniciar juego ¿?\n",
        "\n",
        "\n",
        "\n",
        "\n"
      ]
    }
  ]
}